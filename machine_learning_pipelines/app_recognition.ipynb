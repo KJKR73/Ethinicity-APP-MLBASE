{
  "nbformat": 4,
  "nbformat_minor": 0,
  "metadata": {
    "kernelspec": {
      "name": "python3",
      "display_name": "Python 3",
      "language": "python"
    },
    "language_info": {
      "name": "python",
      "version": "3.7.6",
      "mimetype": "text/x-python",
      "codemirror_mode": {
        "name": "ipython",
        "version": 3
      },
      "pygments_lexer": "ipython3",
      "nbconvert_exporter": "python",
      "file_extension": ".py"
    },
    "colab": {
      "name": "app-recognition ",
      "provenance": [],
      "collapsed_sections": [],
      "toc_visible": true
    },
    "accelerator": "GPU"
  },
  "cells": [
    {
      "cell_type": "markdown",
      "metadata": {
        "id": "xlQ7rezTIZaY",
        "colab_type": "text"
      },
      "source": [
        "<h1> RUN ONLY IN GOOGLE COLAB </h1>"
      ]
    },
    {
      "cell_type": "code",
      "metadata": {
        "id": "KnnafAGy0rQY",
        "colab_type": "code",
        "colab": {
          "base_uri": "https://localhost:8080/",
          "height": 121
        },
        "outputId": "a686c249-5210-4a90-8b31-78f732c4b009"
      },
      "source": [
        "from google.colab import drive\n",
        "drive.mount('/content/gdrive')"
      ],
      "execution_count": 1,
      "outputs": [
        {
          "output_type": "stream",
          "text": [
            "Go to this URL in a browser: https://accounts.google.com/o/oauth2/auth?client_id=947318989803-6bn6qk8qdgf4n4g3pfee6491hc0brc4i.apps.googleusercontent.com&redirect_uri=urn%3aietf%3awg%3aoauth%3a2.0%3aoob&response_type=code&scope=email%20https%3a%2f%2fwww.googleapis.com%2fauth%2fdocs.test%20https%3a%2f%2fwww.googleapis.com%2fauth%2fdrive%20https%3a%2f%2fwww.googleapis.com%2fauth%2fdrive.photos.readonly%20https%3a%2f%2fwww.googleapis.com%2fauth%2fpeopleapi.readonly\n",
            "\n",
            "Enter your authorization code:\n",
            "··········\n",
            "Mounted at /content/gdrive\n"
          ],
          "name": "stdout"
        }
      ]
    },
    {
      "cell_type": "code",
      "metadata": {
        "id": "hJ2sHN08G8LY",
        "colab_type": "code",
        "colab": {}
      },
      "source": [
        "from google.colab import files"
      ],
      "execution_count": 36,
      "outputs": []
    },
    {
      "cell_type": "code",
      "metadata": {
        "_uuid": "8f2839f25d086af736a60e9eeb907d3b93b6e0e5",
        "_cell_guid": "b1076dfc-b9ad-4769-8c92-a6c4dae69d19",
        "trusted": true,
        "id": "hl5bUl9kzput",
        "colab_type": "code",
        "colab": {}
      },
      "source": [
        "import numpy as np\n",
        "import pandas as pd\n",
        "import tensorflow as tf\n",
        "from tqdm.notebook import tqdm \n",
        "from tensorflow.keras.preprocessing.image import ImageDataGenerator\n",
        "import os"
      ],
      "execution_count": 2,
      "outputs": []
    },
    {
      "cell_type": "code",
      "metadata": {
        "id": "E6UJcXLs1Rcv",
        "colab_type": "code",
        "colab": {
          "base_uri": "https://localhost:8080/",
          "height": 50
        },
        "outputId": "b3a5bf5c-fa32-40eb-d475-4d6b30f53761"
      },
      "source": [
        "path = os.getcwd()\n",
        "print(path)\n",
        "filenames = os.listdir(path)\n",
        "print(filenames)"
      ],
      "execution_count": 3,
      "outputs": [
        {
          "output_type": "stream",
          "text": [
            "/content\n",
            "['.config', 'gdrive', 'sample_data']\n"
          ],
          "name": "stdout"
        }
      ]
    },
    {
      "cell_type": "code",
      "metadata": {
        "id": "48cOMB7w-7bE",
        "colab_type": "code",
        "colab": {
          "base_uri": "https://localhost:8080/",
          "height": 34
        },
        "outputId": "b47948f1-4fb6-4036-ac33-69887b53b757"
      },
      "source": [
        "tf.config.list_physical_devices('GPU')"
      ],
      "execution_count": 5,
      "outputs": [
        {
          "output_type": "execute_result",
          "data": {
            "text/plain": [
              "[PhysicalDevice(name='/physical_device:GPU:0', device_type='GPU')]"
            ]
          },
          "metadata": {
            "tags": []
          },
          "execution_count": 5
        }
      ]
    },
    {
      "cell_type": "code",
      "metadata": {
        "id": "7OaFWuoA2BHC",
        "colab_type": "code",
        "colab": {}
      },
      "source": [
        "# Unzip the files here \n",
        "!unzip -q '/content/gdrive/My Drive/Ethn-app/data.zip'"
      ],
      "execution_count": 6,
      "outputs": []
    },
    {
      "cell_type": "code",
      "metadata": {
        "trusted": true,
        "id": "YoVvlCWPzpux",
        "colab_type": "code",
        "colab": {
          "base_uri": "https://localhost:8080/",
          "height": 195
        },
        "outputId": "a8039c5b-08c5-4fff-d332-8d08a533f9f9"
      },
      "source": [
        "# Load the csv and append path of the images to it\n",
        "train_df = pd.read_csv(\"/content/face_data/train.csv\")\n",
        "\n",
        "def add_path(image_name):\n",
        "    return '/content/face_data/train_images/' + image_name \n",
        "\n",
        "train_df['filename'] = train_df['filename'].apply(add_path)\n",
        "train_df['race'] = train_df['race'].values.astype(str)\n",
        "train_df.head()"
      ],
      "execution_count": 7,
      "outputs": [
        {
          "output_type": "execute_result",
          "data": {
            "text/html": [
              "<div>\n",
              "<style scoped>\n",
              "    .dataframe tbody tr th:only-of-type {\n",
              "        vertical-align: middle;\n",
              "    }\n",
              "\n",
              "    .dataframe tbody tr th {\n",
              "        vertical-align: top;\n",
              "    }\n",
              "\n",
              "    .dataframe thead th {\n",
              "        text-align: right;\n",
              "    }\n",
              "</style>\n",
              "<table border=\"1\" class=\"dataframe\">\n",
              "  <thead>\n",
              "    <tr style=\"text-align: right;\">\n",
              "      <th></th>\n",
              "      <th>filename</th>\n",
              "      <th>age</th>\n",
              "      <th>gender</th>\n",
              "      <th>race</th>\n",
              "    </tr>\n",
              "  </thead>\n",
              "  <tbody>\n",
              "    <tr>\n",
              "      <th>0</th>\n",
              "      <td>/content/face_data/train_images/1_0_2_20161219...</td>\n",
              "      <td>1</td>\n",
              "      <td>0</td>\n",
              "      <td>2</td>\n",
              "    </tr>\n",
              "    <tr>\n",
              "      <th>1</th>\n",
              "      <td>/content/face_data/train_images/28_1_3_2017010...</td>\n",
              "      <td>28</td>\n",
              "      <td>1</td>\n",
              "      <td>3</td>\n",
              "    </tr>\n",
              "    <tr>\n",
              "      <th>2</th>\n",
              "      <td>/content/face_data/train_images/24_1_3_2016122...</td>\n",
              "      <td>24</td>\n",
              "      <td>1</td>\n",
              "      <td>3</td>\n",
              "    </tr>\n",
              "    <tr>\n",
              "      <th>3</th>\n",
              "      <td>/content/face_data/train_images/42_1_3_2017010...</td>\n",
              "      <td>42</td>\n",
              "      <td>1</td>\n",
              "      <td>3</td>\n",
              "    </tr>\n",
              "    <tr>\n",
              "      <th>4</th>\n",
              "      <td>/content/face_data/train_images/25_0_3_2017010...</td>\n",
              "      <td>25</td>\n",
              "      <td>0</td>\n",
              "      <td>3</td>\n",
              "    </tr>\n",
              "  </tbody>\n",
              "</table>\n",
              "</div>"
            ],
            "text/plain": [
              "                                            filename  age  gender race\n",
              "0  /content/face_data/train_images/1_0_2_20161219...    1       0    2\n",
              "1  /content/face_data/train_images/28_1_3_2017010...   28       1    3\n",
              "2  /content/face_data/train_images/24_1_3_2016122...   24       1    3\n",
              "3  /content/face_data/train_images/42_1_3_2017010...   42       1    3\n",
              "4  /content/face_data/train_images/25_0_3_2017010...   25       0    3"
            ]
          },
          "metadata": {
            "tags": []
          },
          "execution_count": 7
        }
      ]
    },
    {
      "cell_type": "code",
      "metadata": {
        "trusted": true,
        "id": "QDFN4j_izpu3",
        "colab_type": "code",
        "colab": {}
      },
      "source": [
        "SEED = 37\n",
        "EPOCHS = 30\n",
        "IMG_SIZE = 256"
      ],
      "execution_count": 8,
      "outputs": []
    },
    {
      "cell_type": "code",
      "metadata": {
        "trusted": true,
        "id": "ns21ci24zpu6",
        "colab_type": "code",
        "colab": {}
      },
      "source": [
        "datagen = ImageDataGenerator(rescale=1/255.0, validation_split=0.1)"
      ],
      "execution_count": 9,
      "outputs": []
    },
    {
      "cell_type": "code",
      "metadata": {
        "trusted": true,
        "id": "oAwd0eDMzpu8",
        "colab_type": "code",
        "colab": {
          "base_uri": "https://localhost:8080/",
          "height": 118
        },
        "outputId": "cdc96a3d-08f5-4f1e-80b3-7962ea2949d5"
      },
      "source": [
        "train_generator_gender = datagen.flow_from_dataframe(dataframe=train_df,\n",
        "                                             x_col='filename',\n",
        "                                             y_col='gender',\n",
        "                                             subset='training',\n",
        "                                             batch_size=128,\n",
        "                                             seed=SEED,\n",
        "                                             target_size=(IMG_SIZE, IMG_SIZE),\n",
        "                                             class_mode='raw'\n",
        "                                             )\n",
        "\n",
        "\n",
        "validation_generator_gender = datagen.flow_from_dataframe(dataframe=train_df,\n",
        "                                             x_col='filename',\n",
        "                                             y_col='gender',\n",
        "                                             subset='validation',\n",
        "                                             batch_size=128,\n",
        "                                             seed=SEED,\n",
        "                                             target_size=(IMG_SIZE, IMG_SIZE),\n",
        "                                             class_mode='raw'\n",
        "                                             )\n",
        "\n",
        "# ------------------------------------------------------------------------------\n",
        "train_generator_race = datagen.flow_from_dataframe(dataframe=train_df,\n",
        "                                             x_col='filename',\n",
        "                                             y_col='race',\n",
        "                                             subset='training',\n",
        "                                             batch_size=128,\n",
        "                                             seed=SEED,\n",
        "                                             target_size=(IMG_SIZE, IMG_SIZE),\n",
        "                                             class_mode='categorical'\n",
        "                                             )\n",
        "\n",
        "\n",
        "validation_generator_race = datagen.flow_from_dataframe(dataframe=train_df,\n",
        "                                             x_col='filename',\n",
        "                                             y_col='race',\n",
        "                                             subset='validation',\n",
        "                                             batch_size=128,\n",
        "                                             seed=SEED,\n",
        "                                             target_size=(IMG_SIZE, IMG_SIZE),\n",
        "                                             class_mode='categorical'\n",
        "                                             )\n",
        "\n",
        "\n",
        "# ------------------------------------------------------------------------------\n",
        "train_generator_age = datagen.flow_from_dataframe(dataframe=train_df,\n",
        "                                             x_col='filename',\n",
        "                                             y_col='age',\n",
        "                                             subset='training',\n",
        "                                             batch_size=128,\n",
        "                                             seed=SEED,\n",
        "                                             target_size=(IMG_SIZE, IMG_SIZE),\n",
        "                                             class_mode='raw'\n",
        "                                             )\n",
        "\n",
        "\n",
        "validation_generator_age = datagen.flow_from_dataframe(dataframe=train_df,\n",
        "                                             x_col='filename',\n",
        "                                             y_col='age',\n",
        "                                             subset='validation',\n",
        "                                             batch_size=128,\n",
        "                                             seed=SEED,\n",
        "                                             target_size=(IMG_SIZE, IMG_SIZE),\n",
        "                                             class_mode='raw'\n",
        "                                             )"
      ],
      "execution_count": 10,
      "outputs": [
        {
          "output_type": "stream",
          "text": [
            "Found 8801 validated image filenames.\n",
            "Found 977 validated image filenames.\n",
            "Found 8801 validated image filenames belonging to 5 classes.\n",
            "Found 977 validated image filenames belonging to 5 classes.\n",
            "Found 8801 validated image filenames.\n",
            "Found 977 validated image filenames.\n"
          ],
          "name": "stdout"
        }
      ]
    },
    {
      "cell_type": "code",
      "metadata": {
        "trusted": true,
        "id": "RCBmU0Akzpu_",
        "colab_type": "code",
        "colab": {}
      },
      "source": [
        "def model_arch_gender():\n",
        "    inp = tf.keras.layers.Input(shape = (IMG_SIZE, IMG_SIZE, 3), name = 'inp')\n",
        "    x = tf.keras.layers.Conv2D(32, (3,3), strides = (1, 1), padding = 'same')(inp)\n",
        "    x = tf.keras.layers.BatchNormalization(axis = -1)(x)\n",
        "    x = tf.keras.layers.Activation('relu')(x)\n",
        "    x = tf.keras.layers.MaxPooling2D((2, 2))(x)\n",
        "    \n",
        "    x = tf.keras.layers.Conv2D(64, (3,3), strides = (1, 1), padding = 'same')(x)\n",
        "    x = tf.keras.layers.BatchNormalization(axis = -1)(x)\n",
        "    x = tf.keras.layers.Activation('relu')(x)\n",
        "    x = tf.keras.layers.MaxPooling2D((2, 2))(x)\n",
        "    \n",
        "    x = tf.keras.layers.Conv2D(128, (3,3), strides = (1, 1), padding = 'same')(x)\n",
        "    x = tf.keras.layers.BatchNormalization(axis = -1)(x)\n",
        "    x = tf.keras.layers.Activation('relu')(x)\n",
        "    x = tf.keras.layers.MaxPooling2D((2, 2))(x)\n",
        "    \n",
        "    x = tf.keras.layers.Conv2D(256, (3,3), strides = (1, 1), padding = 'same')(x)\n",
        "    x = tf.keras.layers.BatchNormalization(axis = -1)(x)\n",
        "    x = tf.keras.layers.Activation('relu')(x)\n",
        "    x = tf.keras.layers.MaxPooling2D((2, 2))(x)\n",
        "    x = tf.keras.layers.Flatten()(x)\n",
        "    \n",
        "    out = tf.keras.layers.Dense(1, activation = 'sigmoid')(x)\n",
        "    \n",
        "    model = tf.keras.models.Model(inp, [out])\n",
        "    model.compile(loss = tf.keras.losses.BinaryCrossentropy(), optimizer = 'Adam', metrics = ['accuracy'])\n",
        "    return model"
      ],
      "execution_count": 11,
      "outputs": []
    },
    {
      "cell_type": "code",
      "metadata": {
        "id": "nE1ADmEr4S5f",
        "colab_type": "code",
        "colab": {}
      },
      "source": [
        "def model_arch_race():\n",
        "    inp = tf.keras.layers.Input(shape = (IMG_SIZE, IMG_SIZE, 3), name = 'inp')\n",
        "    x = tf.keras.layers.Conv2D(32, (3,3), strides = (1, 1), padding = 'same')(inp)\n",
        "    x = tf.keras.layers.BatchNormalization(axis = -1)(x)\n",
        "    x = tf.keras.layers.Activation('relu')(x)\n",
        "    x = tf.keras.layers.MaxPooling2D((2, 2))(x)\n",
        "    \n",
        "    x = tf.keras.layers.Conv2D(64, (3,3), strides = (1, 1), padding = 'same')(x)\n",
        "    x = tf.keras.layers.BatchNormalization(axis = -1)(x)\n",
        "    x = tf.keras.layers.Activation('relu')(x)\n",
        "    x = tf.keras.layers.MaxPooling2D((2, 2))(x)\n",
        "    \n",
        "    x = tf.keras.layers.Conv2D(128, (3,3), strides = (1, 1), padding = 'same')(x)\n",
        "    x = tf.keras.layers.BatchNormalization(axis = -1)(x)\n",
        "    x = tf.keras.layers.Activation('relu')(x)\n",
        "    x = tf.keras.layers.MaxPooling2D((2, 2))(x)\n",
        "    \n",
        "    x = tf.keras.layers.Conv2D(256, (3,3), strides = (1, 1), padding = 'same')(x)\n",
        "    x = tf.keras.layers.BatchNormalization(axis = -1)(x)\n",
        "    x = tf.keras.layers.Activation('relu')(x)\n",
        "    x = tf.keras.layers.MaxPooling2D((2, 2))(x)\n",
        "    x = tf.keras.layers.Flatten()(x)\n",
        "    \n",
        "    out = tf.keras.layers.Dense(5, activation = 'softmax')(x)\n",
        "    \n",
        "    model = tf.keras.models.Model(inp, [out])\n",
        "    model.compile(loss = tf.keras.losses.CategoricalCrossentropy(), optimizer = 'Adam', metrics = ['accuracy'])\n",
        "    return model"
      ],
      "execution_count": 12,
      "outputs": []
    },
    {
      "cell_type": "code",
      "metadata": {
        "id": "5-sJaKUR4TaU",
        "colab_type": "code",
        "colab": {}
      },
      "source": [
        "def model_arch_age():\n",
        "    inp = tf.keras.layers.Input(shape = (IMG_SIZE, IMG_SIZE, 3), name = 'inp')\n",
        "    x = tf.keras.layers.Conv2D(32, (3,3), strides = (1, 1), padding = 'same')(inp)\n",
        "    x = tf.keras.layers.BatchNormalization(axis = -1)(x)\n",
        "    x = tf.keras.layers.Activation('relu')(x)\n",
        "    x = tf.keras.layers.MaxPooling2D((2, 2))(x)\n",
        "    \n",
        "    x = tf.keras.layers.Conv2D(64, (3,3), strides = (1, 1), padding = 'same')(x)\n",
        "    x = tf.keras.layers.BatchNormalization(axis = -1)(x)\n",
        "    x = tf.keras.layers.Activation('relu')(x)\n",
        "    x = tf.keras.layers.MaxPooling2D((2, 2))(x)\n",
        "    \n",
        "    x = tf.keras.layers.Conv2D(128, (3,3), strides = (1, 1), padding = 'same')(x)\n",
        "    x = tf.keras.layers.BatchNormalization(axis = -1)(x)\n",
        "    x = tf.keras.layers.Activation('relu')(x)\n",
        "    x = tf.keras.layers.MaxPooling2D((2, 2))(x)\n",
        "    \n",
        "    x = tf.keras.layers.Conv2D(256, (3,3), strides = (1, 1), padding = 'same')(x)\n",
        "    x = tf.keras.layers.BatchNormalization(axis = -1)(x)\n",
        "    x = tf.keras.layers.Activation('relu')(x)\n",
        "    x = tf.keras.layers.MaxPooling2D((2, 2))(x)\n",
        "    x = tf.keras.layers.Flatten()(x)\n",
        "    \n",
        "    x = tf.keras.layers.Dense(256, activation = 'softmax')(x)\n",
        "    x = tf.keras.layers.Dropout(0.2)(x)\n",
        "    x = tf.keras.layers.Dense(128, activation = 'softmax')(x)\n",
        "    out = tf.keras.layers.Dense(1, activation='linear')(x)\n",
        "    \n",
        "    model = tf.keras.models.Model(inp, [out])\n",
        "    model.compile(loss = tf.keras.losses.MeanAbsoluteError(), optimizer = 'Adam', metrics = tf.keras.metrics.MAE)\n",
        "    return model"
      ],
      "execution_count": 32,
      "outputs": []
    },
    {
      "cell_type": "code",
      "metadata": {
        "trusted": true,
        "id": "BAq-zdBezpvI",
        "colab_type": "code",
        "colab": {
          "base_uri": "https://localhost:8080/",
          "height": 50
        },
        "outputId": "dab21e92-093a-42fa-839f-441ce48c2b7d"
      },
      "source": [
        "train_step_size = train_generator_gender.n // train_generator_gender.batch_size\n",
        "val_step_size = validation_generator_gender.n // validation_generator_gender.batch_size\n",
        "print(train_step_size)\n",
        "print(val_step_size)"
      ],
      "execution_count": 18,
      "outputs": [
        {
          "output_type": "stream",
          "text": [
            "68\n",
            "7\n"
          ],
          "name": "stdout"
        }
      ]
    },
    {
      "cell_type": "code",
      "metadata": {
        "id": "HBwW_GG75Sw1",
        "colab_type": "code",
        "colab": {}
      },
      "source": [
        "# Define the callbacks\n",
        "lr_callback = tf.keras.callbacks.ReduceLROnPlateau(monitor='val_loss', factor=0.4, patience=2, verbose=1, mode='min')\n",
        "early_stopping = tf.keras.callbacks.EarlyStopping(monitor ='val_loss', mode = 'min', patience = 3, \n",
        "                                                      verbose = 1, min_delta = 0.0001, restore_best_weights = True)\n",
        "\n",
        "mse_save_gender = tf.keras.callbacks.ModelCheckpoint('model_gender.hdf5', monitor='val_loss', verbose=0, save_best_only=True,\n",
        "                                                     mode='min')\n",
        "\n",
        "mse_save_age = tf.keras.callbacks.ModelCheckpoint('model_age.hdf5', monitor='val_loss', verbose=0, save_best_only=True,\n",
        "                                                     mode='min')\n",
        "\n",
        "mse_save_race = tf.keras.callbacks.ModelCheckpoint('model_race.hdf5', monitor='val_loss', verbose=0, save_best_only=True,\n",
        "                                                     mode='min')"
      ],
      "execution_count": 19,
      "outputs": []
    },
    {
      "cell_type": "code",
      "metadata": {
        "id": "216GYrCt8oCJ",
        "colab_type": "code",
        "colab": {}
      },
      "source": [
        "# Load all the models\n",
        "gender_model = model_arch_gender()\n",
        "race_model = model_arch_race()\n",
        "age_model = model_arch_age()"
      ],
      "execution_count": 33,
      "outputs": []
    },
    {
      "cell_type": "code",
      "metadata": {
        "trusted": true,
        "id": "lU4zulOTzpvK",
        "colab_type": "code",
        "colab": {
          "base_uri": "https://localhost:8080/",
          "height": 306
        },
        "outputId": "f79a8394-c012-49ac-9583-c24d613f8e24"
      },
      "source": [
        "gender_model.fit_generator(train_generator_gender, steps_per_epoch=train_step_size, epochs = EPOCHS, verbose = 1,\n",
        "                   validation_data=validation_generator_gender, validation_steps=val_step_size,\n",
        "                   callbacks=[lr_callback, early_stopping, mse_save_gender])"
      ],
      "execution_count": 23,
      "outputs": [
        {
          "output_type": "stream",
          "text": [
            "WARNING:tensorflow:From <ipython-input-23-206c46a824d5>:3: Model.fit_generator (from tensorflow.python.keras.engine.training) is deprecated and will be removed in a future version.\n",
            "Instructions for updating:\n",
            "Please use Model.fit, which supports generators.\n",
            "Epoch 1/30\n",
            "68/68 [==============================] - 49s 725ms/step - loss: 2.1916 - accuracy: 0.6450 - val_loss: 0.6707 - val_accuracy: 0.6239 - lr: 0.0010\n",
            "Epoch 2/30\n",
            "68/68 [==============================] - 45s 669ms/step - loss: 0.5466 - accuracy: 0.7511 - val_loss: 0.8548 - val_accuracy: 0.4632 - lr: 0.0010\n",
            "Epoch 3/30\n",
            "68/68 [==============================] - ETA: 0s - loss: 0.4384 - accuracy: 0.7966\n",
            "Epoch 00003: ReduceLROnPlateau reducing learning rate to 0.0004000000189989805.\n",
            "68/68 [==============================] - 45s 668ms/step - loss: 0.4384 - accuracy: 0.7966 - val_loss: 0.7131 - val_accuracy: 0.4598 - lr: 0.0010\n",
            "Epoch 4/30\n",
            "68/68 [==============================] - ETA: 0s - loss: 0.3729 - accuracy: 0.8300Restoring model weights from the end of the best epoch.\n",
            "68/68 [==============================] - 46s 669ms/step - loss: 0.3729 - accuracy: 0.8300 - val_loss: 0.7032 - val_accuracy: 0.5112 - lr: 4.0000e-04\n",
            "Epoch 00004: early stopping\n"
          ],
          "name": "stdout"
        },
        {
          "output_type": "execute_result",
          "data": {
            "text/plain": [
              "<tensorflow.python.keras.callbacks.History at 0x7f26ab266588>"
            ]
          },
          "metadata": {
            "tags": []
          },
          "execution_count": 23
        }
      ]
    },
    {
      "cell_type": "code",
      "metadata": {
        "trusted": true,
        "id": "YU7YhGAtzpvM",
        "colab_type": "code",
        "colab": {
          "base_uri": "https://localhost:8080/",
          "height": 591
        },
        "outputId": "083560e2-fbdb-4a82-ffd1-8a4ef57847f0"
      },
      "source": [
        "age_model.fit_generator(train_generator_age, steps_per_epoch=train_step_size, epochs = EPOCHS, verbose = 1,\n",
        "                   validation_data=validation_generator_age, validation_steps=val_step_size,\n",
        "                   callbacks=[lr_callback, early_stopping, mse_save_age])"
      ],
      "execution_count": 34,
      "outputs": [
        {
          "output_type": "stream",
          "text": [
            "Epoch 1/30\n",
            "68/68 [==============================] - 46s 676ms/step - loss: 29.4175 - mean_absolute_error: 29.4175 - val_loss: 28.4556 - val_mean_absolute_error: 28.4556 - lr: 0.0010\n",
            "Epoch 2/30\n",
            "68/68 [==============================] - 46s 675ms/step - loss: 29.2534 - mean_absolute_error: 29.2534 - val_loss: 28.0001 - val_mean_absolute_error: 28.0001 - lr: 0.0010\n",
            "Epoch 3/30\n",
            "68/68 [==============================] - 45s 663ms/step - loss: 29.1367 - mean_absolute_error: 29.1367 - val_loss: 28.0720 - val_mean_absolute_error: 28.0720 - lr: 0.0010\n",
            "Epoch 4/30\n",
            "68/68 [==============================] - ETA: 0s - loss: 28.9794 - mean_absolute_error: 28.9794\n",
            "Epoch 00004: ReduceLROnPlateau reducing learning rate to 0.0004000000189989805.\n",
            "68/68 [==============================] - 45s 662ms/step - loss: 28.9794 - mean_absolute_error: 28.9794 - val_loss: 28.0172 - val_mean_absolute_error: 28.0172 - lr: 0.0010\n",
            "Epoch 5/30\n",
            "68/68 [==============================] - 45s 668ms/step - loss: 28.8949 - mean_absolute_error: 28.8949 - val_loss: 27.9344 - val_mean_absolute_error: 27.9344 - lr: 4.0000e-04\n",
            "Epoch 6/30\n",
            "68/68 [==============================] - 46s 675ms/step - loss: 28.8684 - mean_absolute_error: 28.8684 - val_loss: 27.6395 - val_mean_absolute_error: 27.6395 - lr: 4.0000e-04\n",
            "Epoch 7/30\n",
            "68/68 [==============================] - 45s 666ms/step - loss: 28.7620 - mean_absolute_error: 28.7620 - val_loss: 27.6672 - val_mean_absolute_error: 27.6672 - lr: 4.0000e-04\n",
            "Epoch 8/30\n",
            "68/68 [==============================] - ETA: 0s - loss: 28.7008 - mean_absolute_error: 28.7008\n",
            "Epoch 00008: ReduceLROnPlateau reducing learning rate to 0.00016000000759959222.\n",
            "68/68 [==============================] - 45s 664ms/step - loss: 28.7008 - mean_absolute_error: 28.7008 - val_loss: 27.8018 - val_mean_absolute_error: 27.8018 - lr: 4.0000e-04\n",
            "Epoch 9/30\n",
            "68/68 [==============================] - 45s 664ms/step - loss: 28.6392 - mean_absolute_error: 28.6392 - val_loss: 27.3737 - val_mean_absolute_error: 27.3737 - lr: 1.6000e-04\n",
            "Epoch 10/30\n",
            "68/68 [==============================] - 45s 667ms/step - loss: 28.6232 - mean_absolute_error: 28.6232 - val_loss: 27.6578 - val_mean_absolute_error: 27.6578 - lr: 1.6000e-04\n",
            "Epoch 11/30\n",
            "68/68 [==============================] - ETA: 0s - loss: 28.5696 - mean_absolute_error: 28.5696\n",
            "Epoch 00011: ReduceLROnPlateau reducing learning rate to 6.40000042039901e-05.\n",
            "68/68 [==============================] - 45s 664ms/step - loss: 28.5696 - mean_absolute_error: 28.5696 - val_loss: 27.4330 - val_mean_absolute_error: 27.4330 - lr: 1.6000e-04\n",
            "Epoch 12/30\n",
            "68/68 [==============================] - ETA: 0s - loss: 28.5409 - mean_absolute_error: 28.5409Restoring model weights from the end of the best epoch.\n",
            "68/68 [==============================] - 45s 659ms/step - loss: 28.5409 - mean_absolute_error: 28.5409 - val_loss: 27.6127 - val_mean_absolute_error: 27.6127 - lr: 6.4000e-05\n",
            "Epoch 00012: early stopping\n"
          ],
          "name": "stdout"
        },
        {
          "output_type": "execute_result",
          "data": {
            "text/plain": [
              "<tensorflow.python.keras.callbacks.History at 0x7f26a33fd550>"
            ]
          },
          "metadata": {
            "tags": []
          },
          "execution_count": 34
        }
      ]
    },
    {
      "cell_type": "code",
      "metadata": {
        "id": "th3nfiwI9DbV",
        "colab_type": "code",
        "colab": {
          "base_uri": "https://localhost:8080/",
          "height": 255
        },
        "outputId": "27d36e37-22dc-4af1-94f1-83176702d9ff"
      },
      "source": [
        "race_model.fit_generator(train_generator_race, steps_per_epoch=train_step_size, epochs = EPOCHS, verbose = 1,\n",
        "                   validation_data=validation_generator_race, validation_steps=val_step_size,\n",
        "                   callbacks=[lr_callback, early_stopping, mse_save_race])"
      ],
      "execution_count": 27,
      "outputs": [
        {
          "output_type": "stream",
          "text": [
            "Epoch 1/30\n",
            "68/68 [==============================] - 45s 667ms/step - loss: 6.2403 - accuracy: 0.4697 - val_loss: 1.3238 - val_accuracy: 0.5257 - lr: 0.0010\n",
            "Epoch 2/30\n",
            "68/68 [==============================] - 45s 665ms/step - loss: 1.1394 - accuracy: 0.6068 - val_loss: 1.3306 - val_accuracy: 0.5301 - lr: 0.0010\n",
            "Epoch 3/30\n",
            "68/68 [==============================] - ETA: 0s - loss: 1.0539 - accuracy: 0.6433\n",
            "Epoch 00003: ReduceLROnPlateau reducing learning rate to 0.0004000000189989805.\n",
            "68/68 [==============================] - 45s 667ms/step - loss: 1.0539 - accuracy: 0.6433 - val_loss: 2.0370 - val_accuracy: 0.5324 - lr: 0.0010\n",
            "Epoch 4/30\n",
            "68/68 [==============================] - ETA: 0s - loss: 0.7726 - accuracy: 0.7162Restoring model weights from the end of the best epoch.\n",
            "68/68 [==============================] - 45s 662ms/step - loss: 0.7726 - accuracy: 0.7162 - val_loss: 1.4924 - val_accuracy: 0.5234 - lr: 4.0000e-04\n",
            "Epoch 00004: early stopping\n"
          ],
          "name": "stdout"
        },
        {
          "output_type": "execute_result",
          "data": {
            "text/plain": [
              "<tensorflow.python.keras.callbacks.History at 0x7f26a6c412e8>"
            ]
          },
          "metadata": {
            "tags": []
          },
          "execution_count": 27
        }
      ]
    },
    {
      "cell_type": "code",
      "metadata": {
        "id": "HANYnRcjG1Vt",
        "colab_type": "code",
        "colab": {
          "base_uri": "https://localhost:8080/",
          "height": 17
        },
        "outputId": "21c68e7d-83d0-48bf-f895-81e7c3eb15bc"
      },
      "source": [
        "files.download('model_age.hdf5')"
      ],
      "execution_count": 37,
      "outputs": [
        {
          "output_type": "display_data",
          "data": {
            "application/javascript": [
              "\n",
              "    async function download(id, filename, size) {\n",
              "      if (!google.colab.kernel.accessAllowed) {\n",
              "        return;\n",
              "      }\n",
              "      const div = document.createElement('div');\n",
              "      const label = document.createElement('label');\n",
              "      label.textContent = `Downloading \"${filename}\": `;\n",
              "      div.appendChild(label);\n",
              "      const progress = document.createElement('progress');\n",
              "      progress.max = size;\n",
              "      div.appendChild(progress);\n",
              "      document.body.appendChild(div);\n",
              "\n",
              "      const buffers = [];\n",
              "      let downloaded = 0;\n",
              "\n",
              "      const channel = await google.colab.kernel.comms.open(id);\n",
              "      // Send a message to notify the kernel that we're ready.\n",
              "      channel.send({})\n",
              "\n",
              "      for await (const message of channel.messages) {\n",
              "        // Send a message to notify the kernel that we're ready.\n",
              "        channel.send({})\n",
              "        if (message.buffers) {\n",
              "          for (const buffer of message.buffers) {\n",
              "            buffers.push(buffer);\n",
              "            downloaded += buffer.byteLength;\n",
              "            progress.value = downloaded;\n",
              "          }\n",
              "        }\n",
              "      }\n",
              "      const blob = new Blob(buffers, {type: 'application/binary'});\n",
              "      const a = document.createElement('a');\n",
              "      a.href = window.URL.createObjectURL(blob);\n",
              "      a.download = filename;\n",
              "      div.appendChild(a);\n",
              "      a.click();\n",
              "      div.remove();\n",
              "    }\n",
              "  "
            ],
            "text/plain": [
              "<IPython.core.display.Javascript object>"
            ]
          },
          "metadata": {
            "tags": []
          }
        },
        {
          "output_type": "display_data",
          "data": {
            "application/javascript": [
              "download(\"download_ebc29bdd-77af-42d8-9702-458a24fc8009\", \"model_age.hdf5\", 206520216)"
            ],
            "text/plain": [
              "<IPython.core.display.Javascript object>"
            ]
          },
          "metadata": {
            "tags": []
          }
        }
      ]
    },
    {
      "cell_type": "code",
      "metadata": {
        "id": "ilXnB-mMIRZH",
        "colab_type": "code",
        "colab": {
          "base_uri": "https://localhost:8080/",
          "height": 17
        },
        "outputId": "fbd25276-088a-4f84-fbba-33bf86a7e8bb"
      },
      "source": [
        "files.download('model_race.hdf5')"
      ],
      "execution_count": 38,
      "outputs": [
        {
          "output_type": "display_data",
          "data": {
            "application/javascript": [
              "\n",
              "    async function download(id, filename, size) {\n",
              "      if (!google.colab.kernel.accessAllowed) {\n",
              "        return;\n",
              "      }\n",
              "      const div = document.createElement('div');\n",
              "      const label = document.createElement('label');\n",
              "      label.textContent = `Downloading \"${filename}\": `;\n",
              "      div.appendChild(label);\n",
              "      const progress = document.createElement('progress');\n",
              "      progress.max = size;\n",
              "      div.appendChild(progress);\n",
              "      document.body.appendChild(div);\n",
              "\n",
              "      const buffers = [];\n",
              "      let downloaded = 0;\n",
              "\n",
              "      const channel = await google.colab.kernel.comms.open(id);\n",
              "      // Send a message to notify the kernel that we're ready.\n",
              "      channel.send({})\n",
              "\n",
              "      for await (const message of channel.messages) {\n",
              "        // Send a message to notify the kernel that we're ready.\n",
              "        channel.send({})\n",
              "        if (message.buffers) {\n",
              "          for (const buffer of message.buffers) {\n",
              "            buffers.push(buffer);\n",
              "            downloaded += buffer.byteLength;\n",
              "            progress.value = downloaded;\n",
              "          }\n",
              "        }\n",
              "      }\n",
              "      const blob = new Blob(buffers, {type: 'application/binary'});\n",
              "      const a = document.createElement('a');\n",
              "      a.href = window.URL.createObjectURL(blob);\n",
              "      a.download = filename;\n",
              "      div.appendChild(a);\n",
              "      a.click();\n",
              "      div.remove();\n",
              "    }\n",
              "  "
            ],
            "text/plain": [
              "<IPython.core.display.Javascript object>"
            ]
          },
          "metadata": {
            "tags": []
          }
        },
        {
          "output_type": "display_data",
          "data": {
            "application/javascript": [
              "download(\"download_79589c88-cf4c-49ce-ad2e-0f6978f67ae2\", \"model_race.hdf5\", 8709880)"
            ],
            "text/plain": [
              "<IPython.core.display.Javascript object>"
            ]
          },
          "metadata": {
            "tags": []
          }
        }
      ]
    }
  ]
}